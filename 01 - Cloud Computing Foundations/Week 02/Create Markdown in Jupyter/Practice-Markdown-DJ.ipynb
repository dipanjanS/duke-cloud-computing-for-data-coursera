Practice Markdown
-----------------

This notebook lets you experiment with producing repeatable technical
documentation. Use this notebook to do the following actions:

-  Create a code cell and print a Python Hello World statement:
   ``print("hello world")``
-  Create a Markdown Cell and add a Title using ``#`` and then a
   statement using plain text. You can looks at the source code for this
   cell to get an idea of how to use Markdown.
-  Take some ideas from the `Master Markdown Github
   Guide <https://guides.github.com/features/mastering-markdown/>`__ and
   implement them here.
-  Download this notebook as a ``.ipynb`` file and check into a Github
   Project. You can `see an example
   here <https://github.com/noahgift/duke-coursera-ccf-lab1/blob/main/Practice-Markdown.ipynb>`__.
-  Open your notebook in Google Colab and save it into the same Github
   Project. You can `see an example
   here <https://github.com/noahgift/duke-coursera-ccf-lab1/blob/main/Practice_Markdown_with_colab.ipynb>`__.

Practice Markdown Solutions
===========================

**Author:** Dipanjan (DJ) Sarkar

Python Function for Hello World
~~~~~~~~~~~~~~~~~~~~~~~~~~~~~~~

This python function is a basic function to demonstrate how to print a
string - hello world

.. code:: ipython3

    def print_greeting():
        print('hello world!')
        
    print_greeting()


.. parsed-literal::

    hello world!


Things I am looking forward to learning
=======================================

-  Cloud Computing
-  Machine Learning Operations Principles
-  Deploying Machine Learning Models

My Portfolio
============

I have been an avid user of **GitHub** and you can check my profile
`here <https://github.com/dipanjanS>`__
