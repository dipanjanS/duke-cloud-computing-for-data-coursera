{
  "nbformat": 4,
  "nbformat_minor": 0,
  "metadata": {
    "kernelspec": {
      "display_name": "Python 3",
      "language": "python",
      "name": "python3"
    },
    "language_info": {
      "codemirror_mode": {
        "name": "ipython",
        "version": 3
      },
      "file_extension": ".py",
      "mimetype": "text/x-python",
      "name": "python",
      "nbconvert_exporter": "python",
      "pygments_lexer": "ipython3",
      "version": "3.7.6"
    },
    "colab": {
      "name": "Practice-Markdown-DJ.ipynb",
      "provenance": [],
      "include_colab_link": true
    }
  },
  "cells": [
    {
      "cell_type": "markdown",
      "metadata": {
        "id": "view-in-github",
        "colab_type": "text"
      },
      "source": [
        "<a href=\"https://colab.research.google.com/github/dipanjanS/duke-cloud-computing-for-data-coursera/blob/main/01%20-%20Cloud%20Computing%20Foundations/Week%2002/Create%20Markdown%20in%20Jupyter/Practice-Markdown-DJ-Colab.ipynb\" target=\"_parent\"><img src=\"https://colab.research.google.com/assets/colab-badge.svg\" alt=\"Open In Colab\"/></a>"
      ]
    },
    {
      "cell_type": "markdown",
      "metadata": {
        "id": "ZqjoitT2x_au"
      },
      "source": [
        "## Practice Markdown"
      ]
    },
    {
      "cell_type": "markdown",
      "metadata": {
        "id": "OkH_ivGXx_a2"
      },
      "source": [
        "This notebook lets you experiment with producing repeatable technical documentation.  Use this notebook to do the following actions:\n",
        "\n",
        "* Create a code cell and print a Python Hello World statement:  `print(\"hello world\")`\n",
        "* Create a Markdown Cell and add a Title using `#` and then a statement using plain text.  You can looks at the source code for this cell to get an idea of how to use Markdown.\n",
        "* Take some ideas from the [Master Markdown Github Guide](https://guides.github.com/features/mastering-markdown/) and implement them here.\n",
        "* Download this notebook as a `.ipynb` file and check into a Github Project.  You can [see an example here](https://github.com/noahgift/duke-coursera-ccf-lab1/blob/main/Practice-Markdown.ipynb).\n",
        "* Open your notebook in Google Colab and save it into the same Github Project.  You can [see an example here](https://github.com/noahgift/duke-coursera-ccf-lab1/blob/main/Practice_Markdown_with_colab.ipynb).\n"
      ]
    },
    {
      "cell_type": "markdown",
      "metadata": {
        "id": "9xu_I5yjx_a3"
      },
      "source": [
        "# Practice Markdown Solutions\n",
        "\n",
        "__Author:__ Dipanjan (DJ) Sarkar"
      ]
    },
    {
      "cell_type": "markdown",
      "metadata": {
        "id": "yU1YVS6Jx_a4"
      },
      "source": [
        "### Python Function for Hello World\n",
        "\n",
        "This python function is a basic function to demonstrate how to print a string - hello world"
      ]
    },
    {
      "cell_type": "code",
      "metadata": {
        "id": "oapwfHCLx_a4",
        "outputId": "c7167db1-d98e-4bee-b62c-5e460fc980d5"
      },
      "source": [
        "def print_greeting():\n",
        "    print('hello world!')\n",
        "    \n",
        "print_greeting()"
      ],
      "execution_count": null,
      "outputs": [
        {
          "output_type": "stream",
          "text": [
            "hello world!\n"
          ],
          "name": "stdout"
        }
      ]
    },
    {
      "cell_type": "markdown",
      "metadata": {
        "id": "670KJpxVx_a6"
      },
      "source": [
        "# Things I am looking forward to learning\n",
        "\n",
        "- Cloud Computing\n",
        "- Machine Learning Operations Principles\n",
        "- Deploying Machine Learning Models"
      ]
    },
    {
      "cell_type": "markdown",
      "metadata": {
        "id": "5VjuZ5Fdx_a6"
      },
      "source": [
        "# My Portfolio\n",
        "\n",
        "I have been an avid user of __GitHub__ and you can check my profile [here](https://github.com/dipanjanS)"
      ]
    },
    {
      "cell_type": "markdown",
      "metadata": {
        "id": "nWBo3kFpyATm"
      },
      "source": [
        "_This notebook was modified in Google Colab_"
      ]
    }
  ]
}